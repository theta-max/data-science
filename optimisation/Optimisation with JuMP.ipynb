{
 "cells": [
  {
   "cell_type": "markdown",
   "metadata": {},
   "source": [
    "<div class=\"alert alert-block alert-info\"><b>Optimisation with JuMP:</b> This notebook contains three examples of textbook/toy optimisation problems solved with Julia's <a href=\"http://www.juliaopt.org/JuMP.jl/v0.21/\">JuMP domain-specific modelling language</a>. These are a <b>linear integer programming problem</b> (choosing the best mix of promotional channels), a <b>linear assignment problem</b> (assigning operators to machines), and a <b>non-linear optimisation problem</b> (maximising revenue subject to constraints).</div>"
   ]
  },
  {
   "cell_type": "markdown",
   "metadata": {},
   "source": [
    "## Integer programming\n",
    "Problem from Bradley et al, Applied Mathematical Programming (p.305). A firm (in the 1970s) wants to optimise its marketing spend to reach the maximum audience. The options and constraints are:\n",
    "\n",
    "| Attribute \\ Medium | TV | Trade Magazine | Newspaper | Radio | Popular Magazine | Promo | Total Resource Available |\n",
    "| --- | --- | --- | --- | --- | --- | --- | --- |\n",
    "| Customers reached | 1,000,000 | 200,000 | 300,000 | 400,000 | 450,000 | 450,000 |  |\n",
    "| Cost ($) | 500,000 | 150,000 | 300,000 | 250,000 | 250,000 | 100,000 | 1,800,000 |\n",
    "| Designers needed (person-hours) | 700 | 250 | 200 | 200 | 300 | 400 | 1,500 |\n",
    "| Salespeople needed (person-hours) | 200 | 100 | 100 | 100 | 100 | 1000 | 1,200 |\n",
    "\n",
    "In addition, the following constraints have to be met:\n",
    "\n",
    "- If the promotional campaign is undertaken, it needs either a radio or a popular magazine campaign effort to support it.\n",
    "- The firm cannot advertise in both the trade and popular magazines.\n"
   ]
  },
  {
   "cell_type": "code",
   "execution_count": null,
   "metadata": {
    "scrolled": true
   },
   "outputs": [],
   "source": [
    "using JuMP, GLPK\n",
    "m1 = Model(with_optimizer(GLPK.Optimizer))\n",
    "\n",
    "costs_matrix = [5e5 1.5e5 3e5 2.5e5 2.5e5 1e5; 700 250 200 200 300 400; 200 100 100 100 100 1000]\n",
    "cons_vec = [1.8e6, 1500, 1200]\n",
    "\n",
    "@variable(m1, x[1:6], Bin)\n",
    "\n",
    "@objective(m1, Max, 1000000x[1] + 200000x[2] + 300000x[3] + 400000x[4] + 450000x[5] + 450000x[6])\n",
    "\n",
    "@constraint(m1, cons, costs_matrix * x .<= cons_vec)\n",
    "@constraint(m1, x[6] <= x[4] + x[5]) # promo needs radio or popular mags\n",
    "@constraint(m1, x[2] + x[5] <= 1) # trade xor popular mags\n",
    "\n",
    "# 1 tv\n",
    "# 2 trade_mag\n",
    "# 3 newspaper\n",
    "# 4 radio\n",
    "# 5 pop_mag\n",
    "# 6 promo"
   ]
  },
  {
   "cell_type": "markdown",
   "metadata": {},
   "source": [
    "Solve the model and report its status:"
   ]
  },
  {
   "cell_type": "code",
   "execution_count": null,
   "metadata": {
    "scrolled": true
   },
   "outputs": [],
   "source": [
    "optimize!(m1)\n",
    "termination_status(m1)"
   ]
  },
  {
   "cell_type": "code",
   "execution_count": null,
   "metadata": {
    "scrolled": true
   },
   "outputs": [],
   "source": [
    "value.(x)"
   ]
  },
  {
   "cell_type": "code",
   "execution_count": null,
   "metadata": {
    "scrolled": true
   },
   "outputs": [],
   "source": [
    "objective_value(m1)"
   ]
  },
  {
   "cell_type": "markdown",
   "metadata": {},
   "source": [
    "## An assignment problem\n",
    "Problem from Fitzharris, Linear Optimisation with Applications (p.212). Consider the problem of assigning four machine operators exclusively to four machines. The costs of assigning each operator to each machine are tabulated below. Dave is not qualified on the miller, and Ben has not been trained on the drill.\n",
    "\n",
    "| Operator \\ Machine | Grinder | Lathe | Miller | Drill | \n",
    "| --- | --- | --- | --- | --- | \n",
    "| Dave | 5 | 5 | - | 2 |\n",
    "| Sue | 7 | 4 | 2 | 3 |\n",
    "| Ben | 9 | 3 | 5 | - |\n",
    "| Sandeep | 7 | 2 | 6 | 7 |\n",
    "\n",
    "Which assignment minimises the total cost, and what is that cost?"
   ]
  },
  {
   "cell_type": "code",
   "execution_count": null,
   "metadata": {
    "scrolled": true
   },
   "outputs": [],
   "source": [
    "using JuMP, GLPK\n",
    "m2 = Model(with_optimizer(GLPK.Optimizer))\n",
    "\n",
    "costs_matrix = [5 5 0 2; 7 4 2 3; 9 3 5 0; 7 2 6 7]\n",
    "\n",
    "@variable(m2, x[1:4, 1:4], Bin)\n",
    "@objective(m2, Min, sum(costs_matrix.*x))\n",
    "@constraint(m2, sum(x, dims = 1) .== 1) # sums over each col\n",
    "@constraint(m2, sum(x, dims = 2) .== 1) # sums over each row\n",
    "@constraint(m2, x[1,3] == 0)\n",
    "@constraint(m2, x[3,4] == 0)"
   ]
  },
  {
   "cell_type": "code",
   "execution_count": null,
   "metadata": {
    "scrolled": true
   },
   "outputs": [],
   "source": [
    "optimize!(m2)\n",
    "termination_status(m2)"
   ]
  },
  {
   "cell_type": "markdown",
   "metadata": {},
   "source": [
    "The status code tells us the model has found an optimal solution. Let's see what it is:"
   ]
  },
  {
   "cell_type": "code",
   "execution_count": null,
   "metadata": {
    "scrolled": true
   },
   "outputs": [],
   "source": [
    "value.(x)"
   ]
  },
  {
   "cell_type": "code",
   "execution_count": null,
   "metadata": {
    "scrolled": true
   },
   "outputs": [],
   "source": [
    "objective_value(m2)"
   ]
  },
  {
   "cell_type": "markdown",
   "metadata": {},
   "source": [
    "So the minimal cost is 14 units, when Dave is assigned to the drill, Sue is assigned to the miller, Ben is assigned to the lathe, and Sandeep is assigned to the grinder.  "
   ]
  },
  {
   "cell_type": "markdown",
   "metadata": {},
   "source": [
    "## Non-linear optimisation\n",
    "\n",
    "Problem from Lambert, Advanced Mathematics for Economists (p.130). Suppose a firm has total revenue $TR = 10Q - Q^2 + A/2$ where $Q$ is its output and $A$ is its advertising expenditure. Its total costs are $TC = Q^2/2 + 5Q + 1 + A$. The management seek to maximise revenue subject to the minimum profit constraint $\\pi \\geq \\pi_0$, with $Q \\geq 0$ and $A \\geq 0$, in the case where $\\pi_o = 1/2$.\n",
    "\n",
    "Combining the expressions for $TR$, $TC$, and $\\pi_o$ into a single non-linear constraint, we have:"
   ]
  },
  {
   "cell_type": "code",
   "execution_count": null,
   "metadata": {
    "scrolled": true
   },
   "outputs": [],
   "source": [
    "using JuMP, Ipopt\n",
    "m3 = Model(with_optimizer(Ipopt.Optimizer))\n",
    "@variable(m3, Q >= 0, start = 0.0,)\n",
    "@variable(m3, A >=0, start = 0.0)\n",
    "π_0 = 1/2\n",
    "@NLobjective(m3, Max, 10Q - Q^2 + A/2)\n",
    "@NLconstraint(m3, 3Q^2/2 - 5Q + A/2 + 1 + π_0 <= 0)"
   ]
  },
  {
   "cell_type": "markdown",
   "metadata": {},
   "source": [
    "Let's solve the model (this will produce a long section of output!):"
   ]
  },
  {
   "cell_type": "code",
   "execution_count": 45,
   "metadata": {
    "scrolled": true
   },
   "outputs": [
    {
     "name": "stdout",
     "output_type": "stream",
     "text": [
      "This is Ipopt version 3.12.10, running with linear solver mumps.\n",
      "NOTE: Other linear solvers might be more efficient (see Ipopt documentation).\n",
      "\n",
      "Number of nonzeros in equality constraint Jacobian...:        0\n",
      "Number of nonzeros in inequality constraint Jacobian.:        2\n",
      "Number of nonzeros in Lagrangian Hessian.............:        2\n",
      "\n",
      "Total number of variables............................:        2\n",
      "                     variables with only lower bounds:        2\n",
      "                variables with lower and upper bounds:        0\n",
      "                     variables with only upper bounds:        0\n",
      "Total number of equality constraints.................:        0\n",
      "Total number of inequality constraints...............:        1\n",
      "        inequality constraints with only lower bounds:        0\n",
      "   inequality constraints with lower and upper bounds:        0\n",
      "        inequality constraints with only upper bounds:        1\n",
      "\n",
      "iter    objective    inf_pr   inf_du lg(mu)  ||d||  lg(rg) alpha_du alpha_pr  ls\n",
      "   0 -1.0489990e-01 1.46e+00 3.04e+00  -1.0 0.00e+00    -  0.00e+00 0.00e+00   0\n",
      "   1 -3.2437912e+00 6.52e-02 1.80e+01  -1.0 3.20e-01    -  4.30e-02 1.00e+00f  1\n",
      "   2 -4.6621929e+00 0.00e+00 2.12e+00  -1.0 2.73e-01    -  3.29e-01 1.00e+00f  1\n",
      "   3 -1.6118262e+01 0.00e+00 8.29e+00  -1.0 3.93e+00   0.0 2.31e-01 1.00e+00f  1\n",
      "   4 -7.6139349e+00 0.00e+00 1.15e+02  -1.0 1.81e+00   1.3 1.00e+00 1.00e+00h  1\n",
      "   5 -9.8216967e+00 1.26e+00 8.41e+01  -1.0 1.48e+01    -  9.88e-02 2.74e-01f  1\n",
      "   6 -8.6968820e+00 0.00e+00 1.07e+01  -1.0 4.45e+00    -  1.00e+00 1.00e+00h  1\n",
      "   7 -2.6158708e+01 5.22e+00 1.59e+00  -1.0 1.07e+01    -  1.56e-01 1.00e+00f  1\n",
      "   8 -2.1099445e+01 9.97e-02 6.71e-02  -1.0 1.19e+01    -  1.00e+00 9.72e-01h  1\n",
      "   9 -2.0980377e+01 3.37e-02 8.11e-02  -1.7 1.05e+00    -  1.00e+00 1.00e+00h  1\n",
      "iter    objective    inf_pr   inf_du lg(mu)  ||d||  lg(rg) alpha_du alpha_pr  ls\n",
      "  10 -2.0990571e+01 4.83e-03 1.88e-02  -2.5 5.74e-01    -  1.00e+00 1.00e+00h  1\n",
      "  11 -2.0998270e+01 1.87e-03 5.40e-03  -3.8 2.94e-01    -  1.00e+00 1.00e+00h  1\n",
      "  12 -2.0999432e+01 3.69e-04 1.29e-03  -3.8 1.48e-01    -  1.00e+00 1.00e+00h  1\n",
      "  13 -2.0999697e+01 0.00e+00 2.97e-04  -3.8 7.12e-02    -  1.00e+00 1.00e+00h  1\n",
      "  14 -2.0999969e+01 3.80e-05 1.03e-04  -5.7 4.13e-02    -  1.00e+00 1.00e+00h  1\n",
      "  15 -2.0999991e+01 8.20e-06 2.51e-05  -5.7 2.07e-02    -  1.00e+00 1.00e+00h  1\n",
      "  16 -2.0999996e+01 5.36e-07 5.94e-06  -5.7 1.01e-02    -  1.00e+00 1.00e+00h  1\n",
      "  17 -2.1000000e+01 7.29e-07 1.83e-06  -8.6 5.59e-03    -  1.00e+00 1.00e+00h  1\n",
      "  18 -2.1000000e+01 1.80e-07 4.57e-07  -8.6 2.79e-03    -  1.00e+00 1.00e+00h  1\n",
      "  19 -2.1000000e+01 4.30e-08 1.14e-07  -8.6 1.39e-03    -  1.00e+00 1.00e+00h  1\n",
      "iter    objective    inf_pr   inf_du lg(mu)  ||d||  lg(rg) alpha_du alpha_pr  ls\n",
      "  20 -2.1000000e+01 8.70e-09 2.80e-08  -8.6 6.91e-04    -  1.00e+00 1.00e+00h  1\n",
      "  21 -2.1000000e+01 1.18e-10 6.56e-09  -8.6 3.35e-04    -  1.00e+00 1.00e+00h  1\n",
      "  22 -2.1000000e+01 0.00e+00 1.78e-09  -9.0 1.74e-04    -  1.00e+00 1.00e+00h  1\n",
      "\n",
      "Number of Iterations....: 22\n",
      "\n",
      "                                   (scaled)                 (unscaled)\n",
      "Objective...............:  -2.1000000008161187e+01   -2.1000000008161187e+01\n",
      "Dual infeasibility......:   1.7828124296561448e-09    1.7828124296561448e-09\n",
      "Constraint violation....:   0.0000000000000000e+00    0.0000000000000000e+00\n",
      "Complementarity.........:   3.2861033211782836e-09    3.2861033211782836e-09\n",
      "Overall NLP error.......:   3.2861033211782836e-09    3.2861033211782836e-09\n",
      "\n",
      "\n",
      "Number of objective function evaluations             = 23\n",
      "Number of objective gradient evaluations             = 23\n",
      "Number of equality constraint evaluations            = 0\n",
      "Number of inequality constraint evaluations          = 23\n",
      "Number of equality constraint Jacobian evaluations   = 0\n",
      "Number of inequality constraint Jacobian evaluations = 23\n",
      "Number of Lagrangian Hessian evaluations             = 22\n",
      "Total CPU secs in IPOPT (w/o function evaluations)   =      0.027\n",
      "Total CPU secs in NLP function evaluations           =      0.000\n",
      "\n",
      "EXIT: Optimal Solution Found.\n"
     ]
    }
   ],
   "source": [
    "optimize!(m3)"
   ]
  },
  {
   "cell_type": "markdown",
   "metadata": {},
   "source": [
    "Let's see the results:"
   ]
  },
  {
   "cell_type": "code",
   "execution_count": 46,
   "metadata": {
    "scrolled": true
   },
   "outputs": [
    {
     "data": {
      "text/plain": [
       "21.000000008161187"
      ]
     },
     "execution_count": 46,
     "metadata": {},
     "output_type": "execute_result"
    }
   ],
   "source": [
    "objective_value(m3)"
   ]
  },
  {
   "cell_type": "markdown",
   "metadata": {},
   "source": [
    "So the maximum revenue is 21 units, obtained when:"
   ]
  },
  {
   "cell_type": "code",
   "execution_count": 47,
   "metadata": {
    "scrolled": true
   },
   "outputs": [
    {
     "data": {
      "text/plain": [
       "2-element Array{Float64,1}:\n",
       " 2.9999743655103503    \n",
       " 0.00020509355382131316"
      ]
     },
     "execution_count": 47,
     "metadata": {},
     "output_type": "execute_result"
    }
   ],
   "source": [
    "value.([Q, A])"
   ]
  },
  {
   "cell_type": "markdown",
   "metadata": {},
   "source": [
    "$Q = 3$ and $A = 0$ (to 3 significant figures). This agrees with the analytical solution obtained in the source text."
   ]
  },
  {
   "cell_type": "markdown",
   "metadata": {},
   "source": [
    "## References\n",
    "\n",
    "Bradley, SP, Hax, AC, and Magnanti, TL (1977). Applied Mathematical Programming. Addison Wesley: Reading (MA), USA.\n",
    "\n",
    "Fitzharris, AM (2019). Linear Optimisation with Applications. Grosvenor House Publishing: Tolworth, UK.\n",
    "\n",
    "Lambert, PJ (1985). Advanced Mathematics for Economists: Static and Dynamic Optimization. Blackwell: Oxford, UK."
   ]
  }
 ],
 "metadata": {
  "kernelspec": {
   "display_name": "Julia 1.3.1",
   "language": "julia",
   "name": "julia-1.3"
  },
  "language_info": {
   "file_extension": ".jl",
   "mimetype": "application/julia",
   "name": "julia",
   "version": "1.3.1"
  }
 },
 "nbformat": 4,
 "nbformat_minor": 4
}
